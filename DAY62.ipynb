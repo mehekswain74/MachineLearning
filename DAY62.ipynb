{
  "nbformat": 4,
  "nbformat_minor": 0,
  "metadata": {
    "colab": {
      "provenance": [],
      "authorship_tag": "ABX9TyNKcbd05HlrM4aSR+E7msGL",
      "include_colab_link": true
    },
    "kernelspec": {
      "name": "python3",
      "display_name": "Python 3"
    },
    "language_info": {
      "name": "python"
    }
  },
  "cells": [
    {
      "cell_type": "markdown",
      "metadata": {
        "id": "view-in-github",
        "colab_type": "text"
      },
      "source": [
        "<a href=\"https://colab.research.google.com/github/mehekswain74/MachineLearning/blob/main/DAY62.ipynb\" target=\"_parent\"><img src=\"https://colab.research.google.com/assets/colab-badge.svg\" alt=\"Open In Colab\"/></a>"
      ]
    },
    {
      "cell_type": "code",
      "execution_count": 1,
      "metadata": {
        "id": "Xb87jg2dfA9E"
      },
      "outputs": [],
      "source": [
        "from sklearn.datasets import load_diabetes\n",
        "from sklearn.linear_model import LinearRegression,Ridge,Lasso,ElasticNet\n",
        "from sklearn.model_selection import train_test_split\n",
        "from sklearn.metrics import r2_score"
      ]
    },
    {
      "cell_type": "code",
      "source": [
        "x,y=load_diabetes(return_X_y=True)"
      ],
      "metadata": {
        "id": "VB_vgR7Rfk58"
      },
      "execution_count": 2,
      "outputs": []
    },
    {
      "cell_type": "code",
      "source": [
        "x_train,x_test,y_train,y_test=train_test_split(x,y,test_size=0.2,random_state=2)"
      ],
      "metadata": {
        "id": "VvjUX5fDfvmw"
      },
      "execution_count": 4,
      "outputs": []
    },
    {
      "cell_type": "code",
      "source": [
        "# Implementing Linear Regression\n",
        "reg=LinearRegression()\n",
        "reg.fit(x_train,y_train)\n",
        "y_pred=reg.predict(x_test)\n",
        "r2_score(y_test,y_pred)"
      ],
      "metadata": {
        "colab": {
          "base_uri": "https://localhost:8080/"
        },
        "id": "UWEPoZMzgcjz",
        "outputId": "81844cb7-1139-4a26-c367-278f20332662"
      },
      "execution_count": 5,
      "outputs": [
        {
          "output_type": "execute_result",
          "data": {
            "text/plain": [
              "0.4399338661568968"
            ]
          },
          "metadata": {},
          "execution_count": 5
        }
      ]
    },
    {
      "cell_type": "code",
      "source": [
        "# Implementing Ridge Regression\n",
        "\n",
        "reg1 = Ridge(alpha=0.1)\n",
        "reg1.fit(x_train,y_train)\n",
        "y_pred=reg1.predict(x_test)\n",
        "r2_score(y_test,y_pred)\n"
      ],
      "metadata": {
        "colab": {
          "base_uri": "https://localhost:8080/"
        },
        "id": "Lg-agssig839",
        "outputId": "379cce13-57b8-44b7-9a95-70d3f2582c6d"
      },
      "execution_count": 13,
      "outputs": [
        {
          "output_type": "execute_result",
          "data": {
            "text/plain": [
              "0.45199494197195456"
            ]
          },
          "metadata": {},
          "execution_count": 13
        }
      ]
    },
    {
      "cell_type": "code",
      "source": [
        "# Implementing Lasso Regression\n",
        "reg1 = Lasso(alpha=0.01)\n",
        "reg1.fit(x_train,y_train)\n",
        "y_pred=reg1.predict(x_test)\n",
        "r2_score(y_test,y_pred)"
      ],
      "metadata": {
        "colab": {
          "base_uri": "https://localhost:8080/"
        },
        "id": "sgb10JHfhWfA",
        "outputId": "67983016-8843-44bc-9ef8-18a81ab2a708"
      },
      "execution_count": 14,
      "outputs": [
        {
          "output_type": "execute_result",
          "data": {
            "text/plain": [
              "0.44111855963110613"
            ]
          },
          "metadata": {},
          "execution_count": 14
        }
      ]
    },
    {
      "cell_type": "code",
      "source": [
        "# Implementing ElasticNet\n",
        "reg1 = ElasticNet(alpha=0.005,l1_ratio=0.9)\n",
        "reg1.fit(x_train,y_train)\n",
        "y_pred=reg1.predict(x_test)\n",
        "r2_score(y_test,y_pred)"
      ],
      "metadata": {
        "colab": {
          "base_uri": "https://localhost:8080/"
        },
        "id": "3nIdF1wIiE3g",
        "outputId": "a0e4e7e3-5696-4f2a-dfcd-445838f4bf45"
      },
      "execution_count": 15,
      "outputs": [
        {
          "output_type": "execute_result",
          "data": {
            "text/plain": [
              "0.4531474541554823"
            ]
          },
          "metadata": {},
          "execution_count": 15
        }
      ]
    },
    {
      "cell_type": "code",
      "source": [],
      "metadata": {
        "id": "DS_a_O5MiXkN"
      },
      "execution_count": null,
      "outputs": []
    }
  ]
}